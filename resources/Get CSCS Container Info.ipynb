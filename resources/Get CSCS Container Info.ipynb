{
 "cells": [
  {
   "cell_type": "code",
   "execution_count": null,
   "metadata": {},
   "outputs": [],
   "source": [
    "CSCS_USERNAME = \"\"\n",
    "project = \"bp00sp06\""
   ]
  },
  {
   "cell_type": "code",
   "execution_count": null,
   "metadata": {},
   "outputs": [],
   "source": [
    "from hbp_archive import Project\n",
    "p = Project(project, CSCS_USERNAME)"
   ]
  },
  {
   "cell_type": "code",
   "execution_count": null,
   "metadata": {},
   "outputs": [],
   "source": [
    "cs = p.containers"
   ]
  },
  {
   "cell_type": "code",
   "execution_count": null,
   "metadata": {},
   "outputs": [],
   "source": [
    "pcs = []\n",
    "for c_name in cs.keys():\n",
    "    if cs[c_name].public_url:\n",
    "        pcs.append(cs[c_name])"
   ]
  },
  {
   "cell_type": "code",
   "execution_count": null,
   "metadata": {},
   "outputs": [],
   "source": [
    "len(pcs)"
   ]
  },
  {
   "cell_type": "code",
   "execution_count": null,
   "metadata": {},
   "outputs": [],
   "source": [
    "pcs"
   ]
  },
  {
   "cell_type": "code",
   "execution_count": null,
   "metadata": {},
   "outputs": [],
   "source": [
    "pcs[0].public_url"
   ]
  },
  {
   "cell_type": "code",
   "execution_count": null,
   "metadata": {},
   "outputs": [],
   "source": [
    "# make serializable\n",
    "pcs_json = {}\n",
    "for x in pcs:\n",
    "    pcs_json[x.name] = {}\n",
    "    pcs_json[x.name][\"public_url\"] = x.public_url\n",
    "    for key in ['accept-ranges', 'content-length', 'content-type', 'date', 'last-modified', 'x-container-bytes-used', 'x-container-object-count', 'x-history-location', 'x-timestamp']:\n",
    "        if key in x.__dict__[\"_metadata\"]:\n",
    "            pcs_json[x.name][key]= x.__dict__[\"_metadata\"][key]\n",
    "    "
   ]
  },
  {
   "cell_type": "code",
   "execution_count": null,
   "metadata": {},
   "outputs": [],
   "source": [
    "import json\n",
    "with open('cscs_pcs_data_'+project+'.json', 'w') as f:\n",
    "    json.dump(pcs_json, f, indent=4, sort_keys=True)"
   ]
  },
  {
   "cell_type": "code",
   "execution_count": null,
   "metadata": {},
   "outputs": [],
   "source": [
    "len(pcs_json.keys())"
   ]
  }
 ],
 "metadata": {
  "kernelspec": {
   "display_name": "Python 3",
   "language": "python",
   "name": "python3"
  },
  "language_info": {
   "codemirror_mode": {
    "name": "ipython",
    "version": 3
   },
   "file_extension": ".py",
   "mimetype": "text/x-python",
   "name": "python",
   "nbconvert_exporter": "python",
   "pygments_lexer": "ipython3",
   "version": "3.6.9"
  }
 },
 "nbformat": 4,
 "nbformat_minor": 4
}
